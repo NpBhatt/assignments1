{
 "cells": [
  {
   "cell_type": "code",
   "execution_count": null,
   "id": "8464d257",
   "metadata": {},
   "outputs": [],
   "source": [
    "1. * is an expression\n",
    "   \"hello\" is a string\n",
    "    -87.8 is integer\n",
    "    - is expression\n",
    "    / is expression\n",
    "    + is expression\n",
    "    6 is an integer"
   ]
  },
  {
   "cell_type": "code",
   "execution_count": null,
   "id": "d4f58823",
   "metadata": {},
   "outputs": [],
   "source": [
    "2. String is a value inside a variable and is a string data type\n",
    "   variable is a entity which hold values and could hold string"
   ]
  },
  {
   "cell_type": "code",
   "execution_count": null,
   "id": "b14e3f33",
   "metadata": {},
   "outputs": [],
   "source": [
    "3. interger: it is a data type which stores value from -2147483647 to 2147483647\n",
    "    String: it as a collection of characters inside double quotes\n",
    "        boolean: it has only 2 values either true or false"
   ]
  },
  {
   "cell_type": "code",
   "execution_count": null,
   "id": "ac9f8f5c",
   "metadata": {},
   "outputs": [],
   "source": [
    "4. Expression are made up of mathermatical operators which can be +, -, *, / etc. These expressions are used to calculate some \n",
    "  mathematical operations or calculating some values."
   ]
  },
  {
   "cell_type": "code",
   "execution_count": null,
   "id": "66808a7b",
   "metadata": {},
   "outputs": [],
   "source": [
    "5. An expression is consist of mathematical operators that performs some sort of analytical functions on values while statement\n",
    "   like spam=10 is storing value i.e. 10 inside a variable named \"spam\"."
   ]
  },
  {
   "cell_type": "code",
   "execution_count": null,
   "id": "ca1f1ac1",
   "metadata": {},
   "outputs": [],
   "source": [
    "6. bacon = 23"
   ]
  },
  {
   "cell_type": "code",
   "execution_count": null,
   "id": "74a910f3",
   "metadata": {},
   "outputs": [],
   "source": [
    "7. 'sapm'+'spamspam' will be spamspamspam\n",
    "    'spam'*3 will be spamspamspam"
   ]
  },
  {
   "cell_type": "code",
   "execution_count": null,
   "id": "36239245",
   "metadata": {},
   "outputs": [],
   "source": [
    "8. eggs is a formed from normal alphabetical characters which will work as a varaible as per name convention while 100 will be\n",
    "   considered as integer by python compiler."
   ]
  },
  {
   "cell_type": "code",
   "execution_count": null,
   "id": "eabb1358",
   "metadata": {},
   "outputs": [],
   "source": [
    "9. for integer int() function will be used\n",
    "   for floating point number float() will be used\n",
    "    for string , str() funtion will be used\n",
    "    "
   ]
  },
  {
   "cell_type": "code",
   "execution_count": null,
   "id": "53e12d78",
   "metadata": {},
   "outputs": [],
   "source": [
    "10. 'I have eaten' + 99 + 'burritos' will cause an error because concatenation of string is not possible with integer without\n",
    "     type casting so to resolve this error we need to convert 99 into a string before concatenation."
   ]
  }
 ],
 "metadata": {
  "kernelspec": {
   "display_name": "Python 3 (ipykernel)",
   "language": "python",
   "name": "python3"
  },
  "language_info": {
   "codemirror_mode": {
    "name": "ipython",
    "version": 3
   },
   "file_extension": ".py",
   "mimetype": "text/x-python",
   "name": "python",
   "nbconvert_exporter": "python",
   "pygments_lexer": "ipython3",
   "version": "3.9.7"
  }
 },
 "nbformat": 4,
 "nbformat_minor": 5
}
